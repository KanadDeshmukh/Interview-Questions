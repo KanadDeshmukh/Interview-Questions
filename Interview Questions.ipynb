{
 "cells": [
  {
   "cell_type": "markdown",
   "id": "ab9de358",
   "metadata": {},
   "source": [
    "### Find and read 20 interview questions for Data Types, Operators, Conditional Statements, Looping Statements, Functions."
   ]
  },
  {
   "cell_type": "markdown",
   "id": "0d84c835",
   "metadata": {},
   "source": [
    "#### 1. What is Python?"
   ]
  },
  {
   "cell_type": "markdown",
   "id": "6cdf585a",
   "metadata": {},
   "source": [
    "Python is a high-level, interpreted, general-purpose programming language. Being a general-purpose language, it can be used to build almost any type of application with the right tools/libraries. Additionally, python supports objects, modules, threads, exception-handling, and automatic memory management which help in modeling real-world problems and building applications to solve these problems."
   ]
  },
  {
   "cell_type": "markdown",
   "id": "c70c5521",
   "metadata": {},
   "source": [
    "#### 2. What is an Interpreted language?"
   ]
  },
  {
   "cell_type": "markdown",
   "id": "a9fa1fc6",
   "metadata": {},
   "source": [
    "An Interpreted language executes its statements line by line. Languages such as Python, Javascript, R, PHP, and Ruby are prime examples of Interpreted languages. Programs written in an interpreted language runs directly from the source code, with no intermediary compilation step."
   ]
  },
  {
   "cell_type": "markdown",
   "id": "39ac5297",
   "metadata": {},
   "source": [
    "#### 3. What is PEP 8 and why is it important?"
   ]
  },
  {
   "cell_type": "markdown",
   "id": "75d1d87a",
   "metadata": {},
   "source": [
    "PEP stands for Python Enhancement Proposal. A PEP is an official design document providing information to the Python community, or describing a new feature for Python or its processes. PEP 8 is especially important since it documents the style guidelines for Python Code. Apparently contributing to the Python open-source community requires you to follow these style guidelines sincerely and strictly."
   ]
  },
  {
   "cell_type": "markdown",
   "id": "0d51bb59",
   "metadata": {},
   "source": [
    "#### 4. What are lists and tuples? What is the key difference between the two?"
   ]
  },
  {
   "cell_type": "markdown",
   "id": "886f25b6",
   "metadata": {},
   "source": [
    "Lists and Tuples are both sequence data types that can store a collection of objects in Python. The objects stored in both sequences can have different data types. Lists are represented with square brackets ['sara', 6, 0.19], while tuples are represented with parantheses ('ansh', 5, 0.97).\n",
    "But what is the real difference between the two? The key difference between the two is that while lists are mutable, tuples on the other hand are immutable objects. This means that lists can be modified, appended or sliced on the go but tuples remain constant and cannot be modified in any manner. \n",
    "\n"
   ]
  },
  {
   "cell_type": "markdown",
   "id": "5af98c6a",
   "metadata": {},
   "source": [
    "#### 5. What are the common built-in data types in Python?"
   ]
  },
  {
   "cell_type": "markdown",
   "id": "d47e7024",
   "metadata": {},
   "source": [
    "There are several built-in data types in Python. Although, Python doesn't require data types to be defined explicitly during variable declarations type errors are likely to occur if the knowledge of data types and their compatibility with each other are neglected. Python provides type() and isinstance() functions to check the type of these variables.\n",
    "- Binary Types: memoryview, bytearray, bytes.\n",
    "- Boolean Type: bool.\n",
    "- Set Types: frozenset, set.\n",
    "- Mapping Type: dict.\n",
    "- Sequence Types: range, tuple, list.\n",
    "- Numeric Types: complex, float, int.\n",
    "- Text Type: str."
   ]
  },
  {
   "cell_type": "markdown",
   "id": "7da48d6a",
   "metadata": {},
   "source": [
    "#### 6. What is  \\__init\\__?"
   ]
  },
  {
   "cell_type": "markdown",
   "id": "7e92b628",
   "metadata": {},
   "source": [
    "\\__init\\__ is a contructor method in Python and is automatically called to allocate memory when a new object/instance is created. All classes have a \\__init\\__ method associated with them. It helps in distinguishing methods and attributes of a class from local variables."
   ]
  },
  {
   "cell_type": "code",
   "execution_count": 2,
   "id": "0f1d3269",
   "metadata": {},
   "outputs": [],
   "source": [
    "# class definition\n",
    "class Student:\n",
    "   def __init__(self, fname, lname, age, section):\n",
    "       self.firstname = fname\n",
    "       self.lastname = lname\n",
    "       self.age = age\n",
    "       self.section = section\n",
    "# creating a new object\n",
    "stu1 = Student(\"Sara\", \"Ansh\", 22, \"A2\")"
   ]
  },
  {
   "cell_type": "markdown",
   "id": "ecbfc585",
   "metadata": {},
   "source": [
    "#### 7. What is the difference between Python Arrays and lists?"
   ]
  },
  {
   "cell_type": "markdown",
   "id": "62970cc8",
   "metadata": {},
   "source": [
    "- Arrays in python can only contain elements of same data types i.e., data type of array should be homogeneous. It is a thin wrapper around C language arrays and consumes far less memory than lists.\n",
    "- Lists in python can contain elements of different data types i.e., data type of lists can be heterogeneous. It has the disadvantage of consuming large memory."
   ]
  },
  {
   "cell_type": "markdown",
   "id": "d466cc06",
   "metadata": {},
   "source": [
    "#### 8. How is memory managed in Python?"
   ]
  },
  {
   "cell_type": "markdown",
   "id": "810b31ee",
   "metadata": {},
   "source": [
    "- Memory management in Python is handled by the Python Memory Manager. The memory allocated by the manager is in form of a private heap space dedicated to Python. All Python objects are stored in this heap and being private, it is inaccessible to the programmer. Though, python does provide some core API functions to work upon the private heap space.\n",
    "- Additionally, Python has an in-built garbage collection to recycle the unused memory for the private heap space."
   ]
  },
  {
   "cell_type": "markdown",
   "id": "07538e82",
   "metadata": {},
   "source": [
    "#### 9. What is a method?"
   ]
  },
  {
   "cell_type": "markdown",
   "id": "18e0bc56",
   "metadata": {},
   "source": [
    "A method is a function on some object x that you normally call as x.name(arguments...). Methods are defined as functions inside the class definition:"
   ]
  },
  {
   "cell_type": "code",
   "execution_count": 3,
   "id": "5af7aa1d",
   "metadata": {},
   "outputs": [],
   "source": [
    "class C: \n",
    "    def meth (self, arg): \n",
    "        return arg*2 + self.attribute"
   ]
  },
  {
   "cell_type": "markdown",
   "id": "4e3e3f09",
   "metadata": {},
   "source": [
    "#### 10. What are decorators in Python?\n"
   ]
  },
  {
   "cell_type": "markdown",
   "id": "bd603c99",
   "metadata": {},
   "source": [
    "Decorators in Python are essentially functions that add functionality to an existing function in Python without changing the structure of the function itself. They are represented the @decorator_name in Python and are called in a bottom-up fashion."
   ]
  },
  {
   "cell_type": "code",
   "execution_count": 4,
   "id": "7da4608d",
   "metadata": {},
   "outputs": [
    {
     "data": {
      "text/plain": [
       "['hello', 'world']"
      ]
     },
     "execution_count": 4,
     "metadata": {},
     "output_type": "execute_result"
    }
   ],
   "source": [
    "# decorator function to convert to lowercase\n",
    "def lowercase_decorator(function):\n",
    "   def wrapper():\n",
    "       func = function()\n",
    "       string_lowercase = func.lower()\n",
    "       return string_lowercase\n",
    "   return wrapper\n",
    "# decorator function to split words\n",
    "def splitter_decorator(function):\n",
    "   def wrapper():\n",
    "       func = function()\n",
    "       string_split = func.split()\n",
    "       return string_split\n",
    "   return wrapper\n",
    "@splitter_decorator # this is executed next\n",
    "@lowercase_decorator # this is executed first\n",
    "def hello():\n",
    "   return 'Hello World'\n",
    "hello()   # output => [ 'hello' , 'world' ]"
   ]
  },
  {
   "cell_type": "markdown",
   "id": "685fb198",
   "metadata": {},
   "source": [
    "#### 11. What is the difference between .py and .pyc files?"
   ]
  },
  {
   "cell_type": "markdown",
   "id": "57fe2d02",
   "metadata": {},
   "source": [
    "- .py files contain the source code of a program. Whereas, .pyc file contains the bytecode of your program. We get bytecode after compilation of .py file (source code). .pyc files are not created for all the files that you run. It is only created for the files that you import.\n",
    "- Before executing a python program python interpreter checks for the compiled files. If the file is present, the virtual machine executes it. If not found, it checks for .py file. If found, compiles it to .pyc file and then python virtual machine executes it.\n",
    "- Having .pyc file saves you the compilation time."
   ]
  },
  {
   "cell_type": "markdown",
   "id": "72b904a3",
   "metadata": {},
   "source": [
    "#### 12. Explain split() and join() functions in Python?"
   ]
  },
  {
   "cell_type": "markdown",
   "id": "c362f762",
   "metadata": {},
   "source": [
    "- You can use split() function to split a string based on a delimiter to a list of strings.\n",
    "- You can use join() function to join a list of strings based on a delimiter to give a single string."
   ]
  },
  {
   "cell_type": "code",
   "execution_count": 5,
   "id": "5570cea7",
   "metadata": {},
   "outputs": [
    {
     "name": "stdout",
     "output_type": "stream",
     "text": [
      "['This', 'is', 'a', 'string.']\n",
      "This is a string.\n"
     ]
    }
   ],
   "source": [
    "string = \"This is a string.\"\n",
    "string_list = string.split(' ') #delimiter is ‘space’ character or ‘ ‘\n",
    "print(string_list) #output: ['This', 'is', 'a', 'string.']\n",
    "print(' '.join(string_list)) #output: This is a string.\n"
   ]
  },
  {
   "cell_type": "markdown",
   "id": "0959651f",
   "metadata": {},
   "source": [
    "#### 13. How does inheritance work in python? Explain it with an example."
   ]
  },
  {
   "cell_type": "markdown",
   "id": "7a4d564f",
   "metadata": {},
   "source": [
    "Inheritance gives the power to a class to access all attributes and methods of another class. It aids in code reusability and helps the developer to maintain applications without redundant code. The class inheriting from another class is a child class or also called a derived class. The class from which a child class derives the members are called parent class or superclass."
   ]
  },
  {
   "cell_type": "markdown",
   "id": "7dc19ce7",
   "metadata": {},
   "source": [
    "#### 14. Differentiate between new and override modifiers."
   ]
  },
  {
   "cell_type": "markdown",
   "id": "3938ed0b",
   "metadata": {},
   "source": [
    "The new modifier is used to instruct the compiler to use the new implementation and not the base class function. The Override modifier is useful for overriding a base class function inside the child class."
   ]
  },
  {
   "cell_type": "markdown",
   "id": "2d277c6a",
   "metadata": {},
   "source": [
    "#### 15. What are lambda functions?"
   ]
  },
  {
   "cell_type": "markdown",
   "id": "237c7c91",
   "metadata": {},
   "source": [
    "Lambda functions are generally inline, anonymous functions represented by a single expression. They are used for creating function objects during runtime. They can accept any number of parameters. They are usually used where functions are required only for a short period. They can be used as:"
   ]
  },
  {
   "cell_type": "code",
   "execution_count": 6,
   "id": "9d4ee539",
   "metadata": {},
   "outputs": [
    {
     "name": "stdout",
     "output_type": "stream",
     "text": [
      "24\n"
     ]
    }
   ],
   "source": [
    "mul_func = lambda x,y : x*y\n",
    "print(mul_func(6, 4))"
   ]
  },
  {
   "cell_type": "markdown",
   "id": "1cb133ee",
   "metadata": {},
   "source": [
    "#### 16. What Are The Types of Objects Support in Python Language?"
   ]
  },
  {
   "cell_type": "markdown",
   "id": "07442860",
   "metadata": {},
   "source": [
    "Python supports are two types are of objects.They are, Immutable and Mutable built-in types."
   ]
  },
  {
   "cell_type": "markdown",
   "id": "eaa66109",
   "metadata": {},
   "source": [
    "#### 17. How do you create your own package in Python?"
   ]
  },
  {
   "cell_type": "markdown",
   "id": "efd5b7d1",
   "metadata": {},
   "source": [
    "It overrides the any initialization from an inherited class and is called when the class is instantiated.\n",
    "\n",
    "We know that a package may contain sub-packages and modules. A module is nothing but Python code.\n",
    "To create a package of our own, we create a directory and create a file \\__init\\__.py in it. We leave it empty. Then, in that package, we create a module(s) with whatever code we want. For a detailed explanation with pictures, refer to Python Packages."
   ]
  },
  {
   "cell_type": "markdown",
   "id": "c85cde95",
   "metadata": {},
   "source": [
    "#### 18. What is recursion?"
   ]
  },
  {
   "cell_type": "markdown",
   "id": "c06bd55d",
   "metadata": {},
   "source": [
    "When a function makes a call to itself, it is termed recursion. But then, in order for it to avoid forming an infinite loop, we must have a base condition. Let's take an example."
   ]
  },
  {
   "cell_type": "code",
   "execution_count": 9,
   "id": "5d2605d0",
   "metadata": {},
   "outputs": [
    {
     "data": {
      "text/plain": [
       "24"
      ]
     },
     "execution_count": 9,
     "metadata": {},
     "output_type": "execute_result"
    }
   ],
   "source": [
    "def facto(n):\n",
    "    if n==1: return 1   \n",
    "    return n*facto(n-1)\n",
    "\n",
    "facto(4)"
   ]
  },
  {
   "cell_type": "markdown",
   "id": "7cb25785",
   "metadata": {},
   "source": [
    "#### 19. What is the structure of a while loop?"
   ]
  },
  {
   "cell_type": "markdown",
   "id": "90fe03f5",
   "metadata": {},
   "source": [
    "while : … The ellipsis represents a code block to be executed. until the condition becomes false. The condition is an expression that is considered true unless it evaluates to o, null or false."
   ]
  },
  {
   "cell_type": "markdown",
   "id": "6033887b",
   "metadata": {},
   "source": [
    "#### 20. What is the structure of a for loop?"
   ]
  },
  {
   "cell_type": "markdown",
   "id": "7ce329a6",
   "metadata": {},
   "source": [
    "for in : … The ellipsis represents a code block to be executed, once for each item in the sequence. Within the block the item is available as the current item from the entire list."
   ]
  }
 ],
 "metadata": {
  "kernelspec": {
   "display_name": "Python 3 (ipykernel)",
   "language": "python",
   "name": "python3"
  },
  "language_info": {
   "codemirror_mode": {
    "name": "ipython",
    "version": 3
   },
   "file_extension": ".py",
   "mimetype": "text/x-python",
   "name": "python",
   "nbconvert_exporter": "python",
   "pygments_lexer": "ipython3",
   "version": "3.9.6"
  }
 },
 "nbformat": 4,
 "nbformat_minor": 5
}
